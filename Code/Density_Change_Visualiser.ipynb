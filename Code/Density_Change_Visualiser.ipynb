{
  "nbformat": 4,
  "nbformat_minor": 0,
  "metadata": {
    "colab": {
      "provenance": []
    },
    "kernelspec": {
      "name": "python3",
      "display_name": "Python 3"
    },
    "language_info": {
      "name": "python"
    }
  },
  "cells": [
    {
      "cell_type": "code",
      "execution_count": null,
      "metadata": {
        "id": "1Pxp89wJNMoi"
      },
      "outputs": [],
      "source": [
        "import pandas as pd\n",
        "#set directory\n",
        "df = pd.read_csv(r'path/to/your/directory/Start_vs_latest_density_for_each_industry.csv')\n",
        "df.head()"
      ]
    },
    {
      "cell_type": "code",
      "source": [
        "import matplotlib\n",
        "import matplotlib.pyplot as plt\n",
        "import seaborn as sns\n",
        "\n",
        "df_cleaned = df.dropna(subset=[\"Industry\", \"Density Change (2025)\"])\n",
        "\n"
      ],
      "metadata": {
        "id": "Vamew5dAOAbW"
      },
      "execution_count": null,
      "outputs": []
    },
    {
      "cell_type": "code",
      "source": [
        "import matplotlib.pyplot as plt\n",
        "import pandas as pd\n",
        "\n",
        "# Convert 'Density Change (2025)' to numeric, coercing errors to NaN\n",
        "df_cleaned['Density Change (2025)'] = pd.to_numeric(df_cleaned['Density Change (2025)'], errors='coerce')\n",
        "\n",
        "# Drop rows with NaN in either column after conversion\n",
        "df_cleaned = df_cleaned.dropna(subset=[\"Industry\", \"Density Change (2025)\"])\n",
        "\n",
        "# Sample data\n",
        "categories=df_cleaned[\"Industry\"].tolist()\n",
        "values = df_cleaned[\"Density Change (2025)\"].tolist()\n",
        "\n",
        "# Create bar chart\n",
        "plt.bar(categories, values, color=['green' if v >= 0 else 'red' for v in values])\n",
        "\n",
        "# Add grid, labels, title\n",
        "plt.grid(axis='y', linestyle='--', alpha=0.7)\n",
        "plt.xlabel('Industry')\n",
        "plt.ylabel('Density Change (1997-2025)')\n",
        "plt.title('Density Change')\n",
        "plt.axhline(0, color='black', linewidth=0.8)  # Add horizontal line at y=0\n",
        "\n",
        "# Rotate x-axis labels for better readability\n",
        "plt.xticks(rotation=80)\n",
        "plt.savefig('Density_change.png')\n",
        "\n",
        "plt.show()"
      ],
      "metadata": {
        "id": "B93Rh3X1P7h8"
      },
      "execution_count": null,
      "outputs": []
    }
  ]
}